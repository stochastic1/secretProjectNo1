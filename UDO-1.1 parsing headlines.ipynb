{
 "cells": [
  {
   "cell_type": "markdown",
   "metadata": {},
   "source": [
    "### Discovering Disease Outbreaks from News Headlines: Unit 1\n",
    "#### Jeremy Loscheider, March 22, 2020"
   ]
  },
  {
   "cell_type": "code",
   "execution_count": 1,
   "metadata": {},
   "outputs": [
    {
     "name": "stdout",
     "output_type": "stream",
     "text": [
      "Requirement already satisfied: geonamescache in b:\\users\\thaddeusryan\\anaconda3\\lib\\site-packages (1.1.0)\n",
      "Requirement already satisfied: unidecode in b:\\users\\thaddeusryan\\anaconda3\\lib\\site-packages (1.1.1)\n"
     ]
    }
   ],
   "source": [
    "### Installations\n",
    "!pip install geonamescache\n",
    "!pip install unidecode"
   ]
  },
  {
   "cell_type": "code",
   "execution_count": 2,
   "metadata": {},
   "outputs": [],
   "source": [
    "### Location\n",
    "filePath = 'C://Users/ThaddeusRyan.000/discovering-disease-outbreaks-base/data'"
   ]
  },
  {
   "cell_type": "code",
   "execution_count": 3,
   "metadata": {},
   "outputs": [],
   "source": [
    "### Libraries\n",
    "from pathlib import Path\n",
    "import pandas as pd\n",
    "import re as re\n",
    "import geonamescache as gns\n",
    "import unidecode as uni\n",
    "import json as json\n",
    "from time import time as pytime"
   ]
  },
  {
   "cell_type": "code",
   "execution_count": 4,
   "metadata": {},
   "outputs": [],
   "source": [
    "### Declare location\n",
    "data_folder = Path(filePath)\n",
    "file_to_open = data_folder / \"headlines.txt\"\n",
    "\n",
    "### Create empty list to catch each line\n",
    "theHeadline = []\n",
    "\n",
    "### Append each line, after decoding and stripping line break\n",
    "with open(file_to_open) as f:\n",
    "    for line in f:\n",
    "        line2 = uni.unidecode(line.strip('\\n'))\n",
    "        theHeadline.append(line2)\n",
    "f.close()"
   ]
  },
  {
   "cell_type": "code",
   "execution_count": 5,
   "metadata": {},
   "outputs": [
    {
     "data": {
      "text/plain": [
       "[\"Chicago's First Zika Case Confirmed\",\n",
       " 'Tampa Bay Area Zika Case Count Climbs',\n",
       " 'Bad Water Leads to Sickness in Flint, Michigan',\n",
       " 'Baltimore plans for Zika virus',\n",
       " 'London Health Unit Tracks Mad Cow Disease',\n",
       " \"Zika cases in Vietnam's Ho Chi Minh City surge\",\n",
       " 'Philadelphia experts track pandemic',\n",
       " 'Flu season hits Boston',\n",
       " 'Scientists in Paris to look for answers',\n",
       " 'Key Zika Findings in San Diego Institute']"
      ]
     },
     "execution_count": 5,
     "metadata": {},
     "output_type": "execute_result"
    }
   ],
   "source": [
    "### Validate we now have usable lines\n",
    "theHeadline[20:30]"
   ]
  },
  {
   "cell_type": "markdown",
   "metadata": {},
   "source": [
    "### Problems\n",
    "-- characters: â€“\n",
    "-- Irrelevant headlines -> \"Party Fever\", \"go Viral\"\n",
    "-- Common words combine \"Mad Cow\"\n",
    "-- Multiple possible countries for a given city name\n",
    "-- Compound names - \"San Diego\", \"Wichita Falls\", \"Bella Vista\" - assume Look for next instance of Capitalized"
   ]
  },
  {
   "cell_type": "markdown",
   "metadata": {},
   "source": [
    "### Create a list of city names and a list of their associated countries"
   ]
  },
  {
   "cell_type": "code",
   "execution_count": 6,
   "metadata": {},
   "outputs": [],
   "source": [
    "### Create dict objects and dismantle these cumbersome things\n",
    "gc = gns.GeonamesCache()\n",
    "all_cities = gc.get_cities()\n",
    "all_countries = gc.get_countries()"
   ]
  },
  {
   "cell_type": "code",
   "execution_count": 7,
   "metadata": {},
   "outputs": [
    {
     "name": "stdout",
     "output_type": "stream",
     "text": [
      "  CountryCode                 City\n",
      "0          AD     Andorra la Vella\n",
      "1          AE   Umm Al Quwain City\n",
      "2          AE  Ras Al Khaimah City\n",
      "3          AE           Zayed City\n",
      "4          AE         Khawr Fakkan\n"
     ]
    },
    {
     "data": {
      "text/html": [
       "<div>\n",
       "<style scoped>\n",
       "    .dataframe tbody tr th:only-of-type {\n",
       "        vertical-align: middle;\n",
       "    }\n",
       "\n",
       "    .dataframe tbody tr th {\n",
       "        vertical-align: top;\n",
       "    }\n",
       "\n",
       "    .dataframe thead th {\n",
       "        text-align: right;\n",
       "    }\n",
       "</style>\n",
       "<table border=\"1\" class=\"dataframe\">\n",
       "  <thead>\n",
       "    <tr style=\"text-align: right;\">\n",
       "      <th></th>\n",
       "      <th>CountryCode</th>\n",
       "      <th>City</th>\n",
       "    </tr>\n",
       "  </thead>\n",
       "  <tbody>\n",
       "    <tr>\n",
       "      <th>24331</th>\n",
       "      <td>ZW</td>\n",
       "      <td>Bulawayo</td>\n",
       "    </tr>\n",
       "    <tr>\n",
       "      <th>24332</th>\n",
       "      <td>ZW</td>\n",
       "      <td>Bindura</td>\n",
       "    </tr>\n",
       "    <tr>\n",
       "      <th>24333</th>\n",
       "      <td>ZW</td>\n",
       "      <td>Beitbridge</td>\n",
       "    </tr>\n",
       "    <tr>\n",
       "      <th>24334</th>\n",
       "      <td>ZW</td>\n",
       "      <td>Epworth</td>\n",
       "    </tr>\n",
       "    <tr>\n",
       "      <th>24335</th>\n",
       "      <td>ZW</td>\n",
       "      <td>Chitungwiza</td>\n",
       "    </tr>\n",
       "  </tbody>\n",
       "</table>\n",
       "</div>"
      ],
      "text/plain": [
       "      CountryCode         City\n",
       "24331          ZW     Bulawayo\n",
       "24332          ZW      Bindura\n",
       "24333          ZW   Beitbridge\n",
       "24334          ZW      Epworth\n",
       "24335          ZW  Chitungwiza"
      ]
     },
     "execution_count": 7,
     "metadata": {},
     "output_type": "execute_result"
    }
   ],
   "source": [
    "### Create a city to country code relation\n",
    "city_list = []\n",
    "countrycode_list = []\n",
    "for f in all_cities.keys():\n",
    "    city_list.append(uni.unidecode(all_cities[f]['name']))\n",
    "    countrycode_list.append(uni.unidecode(all_cities[f]['countrycode']))\n",
    "    \n",
    "cc_df = pd.DataFrame(city_list,countrycode_list).reset_index()\n",
    "cc_df.columns=['CountryCode','City']\n",
    "print(cc_df.head(5))\n",
    "cc_df.tail(5)"
   ]
  },
  {
   "cell_type": "code",
   "execution_count": 8,
   "metadata": {},
   "outputs": [
    {
     "name": "stdout",
     "output_type": "stream",
     "text": [
      "                Country CountryCode\n",
      "0               Andorra          AD\n",
      "1  United Arab Emirates          AE\n",
      "2           Afghanistan          AF\n",
      "3   Antigua and Barbuda          AG\n",
      "4              Anguilla          AI\n"
     ]
    },
    {
     "data": {
      "text/html": [
       "<div>\n",
       "<style scoped>\n",
       "    .dataframe tbody tr th:only-of-type {\n",
       "        vertical-align: middle;\n",
       "    }\n",
       "\n",
       "    .dataframe tbody tr th {\n",
       "        vertical-align: top;\n",
       "    }\n",
       "\n",
       "    .dataframe thead th {\n",
       "        text-align: right;\n",
       "    }\n",
       "</style>\n",
       "<table border=\"1\" class=\"dataframe\">\n",
       "  <thead>\n",
       "    <tr style=\"text-align: right;\">\n",
       "      <th></th>\n",
       "      <th>Country</th>\n",
       "      <th>CountryCode</th>\n",
       "    </tr>\n",
       "  </thead>\n",
       "  <tbody>\n",
       "    <tr>\n",
       "      <th>247</th>\n",
       "      <td>South Africa</td>\n",
       "      <td>ZA</td>\n",
       "    </tr>\n",
       "    <tr>\n",
       "      <th>248</th>\n",
       "      <td>Zambia</td>\n",
       "      <td>ZM</td>\n",
       "    </tr>\n",
       "    <tr>\n",
       "      <th>249</th>\n",
       "      <td>Zimbabwe</td>\n",
       "      <td>ZW</td>\n",
       "    </tr>\n",
       "    <tr>\n",
       "      <th>250</th>\n",
       "      <td>Serbia and Montenegro</td>\n",
       "      <td>CS</td>\n",
       "    </tr>\n",
       "    <tr>\n",
       "      <th>251</th>\n",
       "      <td>Netherlands Antilles</td>\n",
       "      <td>AN</td>\n",
       "    </tr>\n",
       "  </tbody>\n",
       "</table>\n",
       "</div>"
      ],
      "text/plain": [
       "                   Country CountryCode\n",
       "247           South Africa          ZA\n",
       "248                 Zambia          ZM\n",
       "249               Zimbabwe          ZW\n",
       "250  Serbia and Montenegro          CS\n",
       "251   Netherlands Antilles          AN"
      ]
     },
     "execution_count": 8,
     "metadata": {},
     "output_type": "execute_result"
    }
   ],
   "source": [
    "### Create a country code to country relation\n",
    "countrycode_list_dup = []\n",
    "country_list = []\n",
    "for g in all_countries.keys():\n",
    "    countrycode_list_dup.append(uni.unidecode(all_countries[g]['iso']))\n",
    "    country_list.append(uni.unidecode(all_countries[g]['name']))\n",
    "co_df = pd.DataFrame(countrycode_list_dup,country_list).reset_index()\n",
    "co_df.columns = ['Country','CountryCode']\n",
    "print(co_df.head(5))\n",
    "co_df.tail(5)\n",
    "    "
   ]
  },
  {
   "cell_type": "code",
   "execution_count": 9,
   "metadata": {},
   "outputs": [
    {
     "data": {
      "text/html": [
       "<div>\n",
       "<style scoped>\n",
       "    .dataframe tbody tr th:only-of-type {\n",
       "        vertical-align: middle;\n",
       "    }\n",
       "\n",
       "    .dataframe tbody tr th {\n",
       "        vertical-align: top;\n",
       "    }\n",
       "\n",
       "    .dataframe thead th {\n",
       "        text-align: right;\n",
       "    }\n",
       "</style>\n",
       "<table border=\"1\" class=\"dataframe\">\n",
       "  <thead>\n",
       "    <tr style=\"text-align: right;\">\n",
       "      <th></th>\n",
       "      <th>CountryCode</th>\n",
       "      <th>City</th>\n",
       "      <th>Country</th>\n",
       "    </tr>\n",
       "  </thead>\n",
       "  <tbody>\n",
       "    <tr>\n",
       "      <th>0</th>\n",
       "      <td>AD</td>\n",
       "      <td>Andorra la Vella</td>\n",
       "      <td>Andorra</td>\n",
       "    </tr>\n",
       "    <tr>\n",
       "      <th>1</th>\n",
       "      <td>AE</td>\n",
       "      <td>Umm Al Quwain City</td>\n",
       "      <td>United Arab Emirates</td>\n",
       "    </tr>\n",
       "    <tr>\n",
       "      <th>2</th>\n",
       "      <td>AE</td>\n",
       "      <td>Ras Al Khaimah City</td>\n",
       "      <td>United Arab Emirates</td>\n",
       "    </tr>\n",
       "    <tr>\n",
       "      <th>3</th>\n",
       "      <td>AE</td>\n",
       "      <td>Zayed City</td>\n",
       "      <td>United Arab Emirates</td>\n",
       "    </tr>\n",
       "    <tr>\n",
       "      <th>4</th>\n",
       "      <td>AE</td>\n",
       "      <td>Khawr Fakkan</td>\n",
       "      <td>United Arab Emirates</td>\n",
       "    </tr>\n",
       "  </tbody>\n",
       "</table>\n",
       "</div>"
      ],
      "text/plain": [
       "  CountryCode                 City               Country\n",
       "0          AD     Andorra la Vella               Andorra\n",
       "1          AE   Umm Al Quwain City  United Arab Emirates\n",
       "2          AE  Ras Al Khaimah City  United Arab Emirates\n",
       "3          AE           Zayed City  United Arab Emirates\n",
       "4          AE         Khawr Fakkan  United Arab Emirates"
      ]
     },
     "execution_count": 9,
     "metadata": {},
     "output_type": "execute_result"
    }
   ],
   "source": [
    "## Combine these to one\n",
    "## Pattern: df.set_index('key').join(other.set_index('key'))\n",
    "ci_co_df = cc_df.set_index('CountryCode').join(co_df.set_index('CountryCode')).reset_index()\n",
    "ci_co_df.head(5)"
   ]
  },
  {
   "cell_type": "markdown",
   "metadata": {},
   "source": [
    "#### Try matching form list one at a time"
   ]
  },
  {
   "cell_type": "code",
   "execution_count": 10,
   "metadata": {},
   "outputs": [],
   "source": [
    "def findCity(_headline):\n",
    "    for city in (city_list):\n",
    "        match= re.search(r\"\\b%s\\b\" %city, _headline)\n",
    "        if match is not None:\n",
    "            return city\n",
    "    return \"Not Found\"\n",
    "\n",
    "def findCountry(_city):\n",
    "    if _city != 'Not Found':\n",
    "#         print(\"Going on the not found path\")\n",
    "#         country = ci_co_df[ci_co_df['City']==_city]['Country'][0]\n",
    "        country = ci_co_dict[_city]\n",
    "#         print(country)\n",
    "        return country\n",
    "    else:\n",
    "        return \"Not Found\""
   ]
  },
  {
   "cell_type": "code",
   "execution_count": 11,
   "metadata": {},
   "outputs": [
    {
     "name": "stdout",
     "output_type": "stream",
     "text": [
      "Brazil\n"
     ]
    }
   ],
   "source": [
    "### Try dicts instead of dataframes to avoid indexing issues\n",
    "_country = ci_co_df['Country']\n",
    "_city = ci_co_df['City']\n",
    "ci_co_dict = {_city[i]: _country[i] for i in range(len(_city))}\n",
    "### Validate\n",
    "print(ci_co_dict['Sao Pedro'])"
   ]
  },
  {
   "cell_type": "code",
   "execution_count": 12,
   "metadata": {},
   "outputs": [
    {
     "data": {
      "text/plain": [
       "['Philadelphia experts track pandemic',\n",
       " 'Flu season hits Boston',\n",
       " 'Scientists in Paris to look for answers',\n",
       " 'Key Zika Findings in San Diego Institute',\n",
       " 'Thailand-Zika Virus in Bangkok']"
      ]
     },
     "execution_count": 12,
     "metadata": {},
     "output_type": "execute_result"
    }
   ],
   "source": [
    "### Test on small version of dataset\n",
    "smallheadline = theHeadline[26:31]\n",
    "smallheadline"
   ]
  },
  {
   "cell_type": "code",
   "execution_count": 13,
   "metadata": {},
   "outputs": [],
   "source": [
    "sh_df = pd.DataFrame(smallheadline,columns=['Headline'])\n",
    "sh_df['City'] = sh_df['Headline'].apply(findCity)\n",
    "sh_df['Country'] = sh_df['City'].apply(findCountry)"
   ]
  },
  {
   "cell_type": "code",
   "execution_count": 14,
   "metadata": {},
   "outputs": [
    {
     "data": {
      "text/html": [
       "<div>\n",
       "<style scoped>\n",
       "    .dataframe tbody tr th:only-of-type {\n",
       "        vertical-align: middle;\n",
       "    }\n",
       "\n",
       "    .dataframe tbody tr th {\n",
       "        vertical-align: top;\n",
       "    }\n",
       "\n",
       "    .dataframe thead th {\n",
       "        text-align: right;\n",
       "    }\n",
       "</style>\n",
       "<table border=\"1\" class=\"dataframe\">\n",
       "  <thead>\n",
       "    <tr style=\"text-align: right;\">\n",
       "      <th></th>\n",
       "      <th>Headline</th>\n",
       "      <th>City</th>\n",
       "      <th>Country</th>\n",
       "    </tr>\n",
       "  </thead>\n",
       "  <tbody>\n",
       "    <tr>\n",
       "      <th>0</th>\n",
       "      <td>Philadelphia experts track pandemic</td>\n",
       "      <td>Philadelphia</td>\n",
       "      <td>United States</td>\n",
       "    </tr>\n",
       "    <tr>\n",
       "      <th>1</th>\n",
       "      <td>Flu season hits Boston</td>\n",
       "      <td>Boston</td>\n",
       "      <td>United States</td>\n",
       "    </tr>\n",
       "    <tr>\n",
       "      <th>2</th>\n",
       "      <td>Scientists in Paris to look for answers</td>\n",
       "      <td>Paris</td>\n",
       "      <td>United States</td>\n",
       "    </tr>\n",
       "    <tr>\n",
       "      <th>3</th>\n",
       "      <td>Key Zika Findings in San Diego Institute</td>\n",
       "      <td>San Diego</td>\n",
       "      <td>United States</td>\n",
       "    </tr>\n",
       "    <tr>\n",
       "      <th>4</th>\n",
       "      <td>Thailand-Zika Virus in Bangkok</td>\n",
       "      <td>Bangkok</td>\n",
       "      <td>Thailand</td>\n",
       "    </tr>\n",
       "  </tbody>\n",
       "</table>\n",
       "</div>"
      ],
      "text/plain": [
       "                                   Headline          City        Country\n",
       "0       Philadelphia experts track pandemic  Philadelphia  United States\n",
       "1                    Flu season hits Boston        Boston  United States\n",
       "2   Scientists in Paris to look for answers         Paris  United States\n",
       "3  Key Zika Findings in San Diego Institute     San Diego  United States\n",
       "4            Thailand-Zika Virus in Bangkok       Bangkok       Thailand"
      ]
     },
     "execution_count": 14,
     "metadata": {},
     "output_type": "execute_result"
    }
   ],
   "source": [
    "sh_df.head(5)"
   ]
  },
  {
   "cell_type": "markdown",
   "metadata": {},
   "source": [
    "### Obviously some issues with dupcliate place names.... probably not a big virology research lab in Paris, Texas"
   ]
  },
  {
   "cell_type": "code",
   "execution_count": 15,
   "metadata": {},
   "outputs": [
    {
     "name": "stdout",
     "output_type": "stream",
     "text": [
      "is this performant? Done in 501 seconds...\n"
     ]
    }
   ],
   "source": [
    "_ = pytime()\n",
    "final_df = pd.DataFrame(theHeadline,columns=['Headline'])\n",
    "final_df['City'] = final_df['Headline'].apply(findCity)\n",
    "final_df['Country'] = final_df['City'].apply(findCountry)\n",
    "__ = pytime()\n",
    "print(\"is this performant? Done in %i seconds...\" %(__-_))"
   ]
  },
  {
   "cell_type": "code",
   "execution_count": 16,
   "metadata": {},
   "outputs": [
    {
     "data": {
      "text/html": [
       "<div>\n",
       "<style scoped>\n",
       "    .dataframe tbody tr th:only-of-type {\n",
       "        vertical-align: middle;\n",
       "    }\n",
       "\n",
       "    .dataframe tbody tr th {\n",
       "        vertical-align: top;\n",
       "    }\n",
       "\n",
       "    .dataframe thead th {\n",
       "        text-align: right;\n",
       "    }\n",
       "</style>\n",
       "<table border=\"1\" class=\"dataframe\">\n",
       "  <thead>\n",
       "    <tr style=\"text-align: right;\">\n",
       "      <th></th>\n",
       "      <th>Headline</th>\n",
       "      <th>City</th>\n",
       "      <th>Country</th>\n",
       "    </tr>\n",
       "  </thead>\n",
       "  <tbody>\n",
       "    <tr>\n",
       "      <th>0</th>\n",
       "      <td>Zika Outbreak Hits Miami</td>\n",
       "      <td>Miami</td>\n",
       "      <td>United States</td>\n",
       "    </tr>\n",
       "    <tr>\n",
       "      <th>1</th>\n",
       "      <td>Could Zika Reach New York City?</td>\n",
       "      <td>York</td>\n",
       "      <td>United States</td>\n",
       "    </tr>\n",
       "    <tr>\n",
       "      <th>2</th>\n",
       "      <td>First Case of Zika in Miami Beach</td>\n",
       "      <td>Miami</td>\n",
       "      <td>United States</td>\n",
       "    </tr>\n",
       "    <tr>\n",
       "      <th>3</th>\n",
       "      <td>Mystery Virus Spreads in Recife, Brazil</td>\n",
       "      <td>Recife</td>\n",
       "      <td>Brazil</td>\n",
       "    </tr>\n",
       "    <tr>\n",
       "      <th>4</th>\n",
       "      <td>Dallas man comes down with case of Zika</td>\n",
       "      <td>Dallas</td>\n",
       "      <td>United States</td>\n",
       "    </tr>\n",
       "  </tbody>\n",
       "</table>\n",
       "</div>"
      ],
      "text/plain": [
       "                                  Headline    City        Country\n",
       "0                 Zika Outbreak Hits Miami   Miami  United States\n",
       "1          Could Zika Reach New York City?    York  United States\n",
       "2        First Case of Zika in Miami Beach   Miami  United States\n",
       "3  Mystery Virus Spreads in Recife, Brazil  Recife         Brazil\n",
       "4  Dallas man comes down with case of Zika  Dallas  United States"
      ]
     },
     "execution_count": 16,
     "metadata": {},
     "output_type": "execute_result"
    }
   ],
   "source": [
    "### Show examples\n",
    "final_df.head(5)"
   ]
  },
  {
   "cell_type": "code",
   "execution_count": 17,
   "metadata": {},
   "outputs": [
    {
     "data": {
      "text/html": [
       "<div>\n",
       "<style scoped>\n",
       "    .dataframe tbody tr th:only-of-type {\n",
       "        vertical-align: middle;\n",
       "    }\n",
       "\n",
       "    .dataframe tbody tr th {\n",
       "        vertical-align: top;\n",
       "    }\n",
       "\n",
       "    .dataframe thead th {\n",
       "        text-align: right;\n",
       "    }\n",
       "</style>\n",
       "<table border=\"1\" class=\"dataframe\">\n",
       "  <thead>\n",
       "    <tr style=\"text-align: right;\">\n",
       "      <th></th>\n",
       "      <th>Headline</th>\n",
       "      <th>City</th>\n",
       "      <th>Country</th>\n",
       "    </tr>\n",
       "  </thead>\n",
       "  <tbody>\n",
       "    <tr>\n",
       "      <th>645</th>\n",
       "      <td>Rumors about Rabies spreading in Jerusalem hav...</td>\n",
       "      <td>Jerusalem</td>\n",
       "      <td>Israel</td>\n",
       "    </tr>\n",
       "    <tr>\n",
       "      <th>646</th>\n",
       "      <td>More Zika patients reported in Indang</td>\n",
       "      <td>Indang</td>\n",
       "      <td>Philippines</td>\n",
       "    </tr>\n",
       "    <tr>\n",
       "      <th>647</th>\n",
       "      <td>Suva authorities confirmed the spread of Rotav...</td>\n",
       "      <td>Suva</td>\n",
       "      <td>Fiji</td>\n",
       "    </tr>\n",
       "    <tr>\n",
       "      <th>648</th>\n",
       "      <td>More Zika patients reported in Bella Vista</td>\n",
       "      <td>Bella Vista</td>\n",
       "      <td>United States</td>\n",
       "    </tr>\n",
       "    <tr>\n",
       "      <th>649</th>\n",
       "      <td>Zika Outbreak in Wichita Falls</td>\n",
       "      <td>Wichita</td>\n",
       "      <td>United States</td>\n",
       "    </tr>\n",
       "  </tbody>\n",
       "</table>\n",
       "</div>"
      ],
      "text/plain": [
       "                                              Headline         City  \\\n",
       "645  Rumors about Rabies spreading in Jerusalem hav...    Jerusalem   \n",
       "646              More Zika patients reported in Indang       Indang   \n",
       "647  Suva authorities confirmed the spread of Rotav...         Suva   \n",
       "648         More Zika patients reported in Bella Vista  Bella Vista   \n",
       "649                     Zika Outbreak in Wichita Falls      Wichita   \n",
       "\n",
       "           Country  \n",
       "645         Israel  \n",
       "646    Philippines  \n",
       "647           Fiji  \n",
       "648  United States  \n",
       "649  United States  "
      ]
     },
     "execution_count": 17,
     "metadata": {},
     "output_type": "execute_result"
    }
   ],
   "source": [
    "final_df.tail(5)"
   ]
  }
 ],
 "metadata": {
  "kernelspec": {
   "display_name": "Python 3",
   "language": "python",
   "name": "python3"
  },
  "language_info": {
   "codemirror_mode": {
    "name": "ipython",
    "version": 3
   },
   "file_extension": ".py",
   "mimetype": "text/x-python",
   "name": "python",
   "nbconvert_exporter": "python",
   "pygments_lexer": "ipython3",
   "version": "3.7.3"
  }
 },
 "nbformat": 4,
 "nbformat_minor": 2
}
