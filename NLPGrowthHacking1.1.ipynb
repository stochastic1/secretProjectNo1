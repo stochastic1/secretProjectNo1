{
 "cells": [
  {
   "cell_type": "markdown",
   "metadata": {},
   "source": [
    "### Growth Hacking with NLP LiveProject\n",
    "### Student: Jeremy Loscheider\n",
    "### Assignment: 1.1 Creating dataset"
   ]
  },
  {
   "cell_type": "code",
   "execution_count": 1,
   "metadata": {},
   "outputs": [
    {
     "name": "stdout",
     "output_type": "stream",
     "text": [
      "Requirement already satisfied: ndjson in b:\\users\\thaddeusryan\\anaconda3\\lib\\site-packages (0.3.1)\n",
      "Note: you may need to restart the kernel to use updated packages.\n"
     ]
    }
   ],
   "source": [
    "pip install ndjson"
   ]
  },
  {
   "cell_type": "code",
   "execution_count": 2,
   "metadata": {},
   "outputs": [
    {
     "name": "stdout",
     "output_type": "stream",
     "text": [
      "Requirement already satisfied: altair in b:\\users\\thaddeusryan\\anaconda3\\lib\\site-packages (4.1.0)\n",
      "Requirement already satisfied: jsonschema in b:\\users\\thaddeusryan\\anaconda3\\lib\\site-packages (from altair) (3.0.1)\n",
      "Requirement already satisfied: toolz in b:\\users\\thaddeusryan\\anaconda3\\lib\\site-packages (from altair) (0.10.0)\n",
      "Requirement already satisfied: numpy in b:\\users\\thaddeusryan\\anaconda3\\lib\\site-packages (from altair) (1.16.4)\n",
      "Requirement already satisfied: jinja2 in b:\\users\\thaddeusryan\\anaconda3\\lib\\site-packages (from altair) (2.10.1)\n",
      "Requirement already satisfied: pandas>=0.18 in b:\\users\\thaddeusryan\\anaconda3\\lib\\site-packages (from altair) (0.24.2)\n",
      "Requirement already satisfied: entrypoints in b:\\users\\thaddeusryan\\anaconda3\\lib\\site-packages (from altair) (0.3)\n",
      "Requirement already satisfied: attrs>=17.4.0 in b:\\users\\thaddeusryan\\anaconda3\\lib\\site-packages (from jsonschema->altair) (19.1.0)\n",
      "Requirement already satisfied: pyrsistent>=0.14.0 in b:\\users\\thaddeusryan\\anaconda3\\lib\\site-packages (from jsonschema->altair) (0.14.11)\n",
      "Requirement already satisfied: setuptools in b:\\users\\thaddeusryan\\anaconda3\\lib\\site-packages (from jsonschema->altair) (41.0.1)\n",
      "Requirement already satisfied: six>=1.11.0 in b:\\users\\thaddeusryan\\anaconda3\\lib\\site-packages (from jsonschema->altair) (1.12.0)\n",
      "Requirement already satisfied: MarkupSafe>=0.23 in b:\\users\\thaddeusryan\\anaconda3\\lib\\site-packages (from jinja2->altair) (1.1.1)\n",
      "Requirement already satisfied: pytz>=2011k in b:\\users\\thaddeusryan\\anaconda3\\lib\\site-packages (from pandas>=0.18->altair) (2019.1)\n",
      "Requirement already satisfied: python-dateutil>=2.5.0 in b:\\users\\thaddeusryan\\anaconda3\\lib\\site-packages (from pandas>=0.18->altair) (2.8.0)\n",
      "Note: you may need to restart the kernel to use updated packages.\n"
     ]
    }
   ],
   "source": [
    "pip install altair"
   ]
  },
  {
   "cell_type": "code",
   "execution_count": 3,
   "metadata": {},
   "outputs": [
    {
     "name": "stdout",
     "output_type": "stream",
     "text": [
      "Requirement already satisfied: imbalanced-learn in b:\\users\\thaddeusryan\\anaconda3\\lib\\site-packages (0.6.2)\n",
      "Requirement already satisfied: scikit-learn>=0.22 in b:\\users\\thaddeusryan\\anaconda3\\lib\\site-packages (from imbalanced-learn) (0.23.1)\n",
      "Requirement already satisfied: joblib>=0.11 in b:\\users\\thaddeusryan\\anaconda3\\lib\\site-packages (from imbalanced-learn) (0.13.2)\n",
      "Requirement already satisfied: scipy>=0.17 in b:\\users\\thaddeusryan\\anaconda3\\lib\\site-packages (from imbalanced-learn) (1.2.1)\n",
      "Requirement already satisfied: numpy>=1.11 in b:\\users\\thaddeusryan\\anaconda3\\lib\\site-packages (from imbalanced-learn) (1.16.4)\n",
      "Requirement already satisfied: threadpoolctl>=2.0.0 in b:\\users\\thaddeusryan\\anaconda3\\lib\\site-packages (from scikit-learn>=0.22->imbalanced-learn) (2.1.0)\n",
      "Note: you may need to restart the kernel to use updated packages.\n"
     ]
    }
   ],
   "source": [
    "pip install imbalanced-learn"
   ]
  },
  {
   "cell_type": "code",
   "execution_count": 1,
   "metadata": {},
   "outputs": [],
   "source": [
    "import ndjson as nj\n",
    "import altair as al\n",
    "import pandas as pd\n",
    "import os\n",
    "from imblearn import under_sampling as imus"
   ]
  },
  {
   "cell_type": "code",
   "execution_count": 2,
   "metadata": {},
   "outputs": [
    {
     "data": {
      "text/plain": [
       "'C:\\\\Users\\\\ThaddeusRyan.000'"
      ]
     },
     "execution_count": 2,
     "metadata": {},
     "output_type": "execute_result"
    }
   ],
   "source": [
    "### Get data\n",
    "os.getcwd()"
   ]
  },
  {
   "cell_type": "code",
   "execution_count": 3,
   "metadata": {},
   "outputs": [
    {
     "name": "stdout",
     "output_type": "stream",
     "text": [
      "B:\\LearningR\\VideoGameReviews\n"
     ]
    }
   ],
   "source": [
    "os.chdir('B:\\LearningR\\VideoGameReviews')\n",
    "print(os.getcwd())\n",
    "filePath = os.getcwd()"
   ]
  },
  {
   "cell_type": "code",
   "execution_count": 4,
   "metadata": {},
   "outputs": [
    {
     "data": {
      "text/plain": [
       "['Video_Games_5.json']"
      ]
     },
     "execution_count": 4,
     "metadata": {},
     "output_type": "execute_result"
    }
   ],
   "source": [
    "os.listdir()"
   ]
  },
  {
   "cell_type": "code",
   "execution_count": 5,
   "metadata": {},
   "outputs": [
    {
     "name": "stdout",
     "output_type": "stream",
     "text": [
      "['Video_Games_5.json']\n"
     ]
    },
    {
     "data": {
      "text/plain": [
       "list"
      ]
     },
     "execution_count": 5,
     "metadata": {},
     "output_type": "execute_result"
    }
   ],
   "source": [
    "###1.1.2 Import data\n",
    "print(os.listdir(filePath))\n",
    "with open('B:\\LearningR\\VideoGameReviews\\Video_Games_5.json') as v:\n",
    "    data = nj.load(v)\n",
    "type(data)\n"
   ]
  },
  {
   "cell_type": "code",
   "execution_count": 6,
   "metadata": {},
   "outputs": [
    {
     "name": "stdout",
     "output_type": "stream",
     "text": [
      "There are 497577 rows.\n",
      "{'overall': 5.0, 'verified': True, 'reviewTime': '04 20, 2016', 'reviewerID': 'A2CYSH49Y0F80', 'asin': 'B00000I1BS', 'reviewerName': 'Matthew S Paradie', 'reviewText': 'great game', 'summary': 'Five Stars', 'unixReviewTime': 1461110400}\n"
     ]
    }
   ],
   "source": [
    "### Validate\n",
    "print(\"There are %i rows.\" %len(data))\n",
    "print(data[2001])"
   ]
  },
  {
   "cell_type": "code",
   "execution_count": 7,
   "metadata": {},
   "outputs": [
    {
     "data": {
      "text/html": [
       "<div>\n",
       "<style scoped>\n",
       "    .dataframe tbody tr th:only-of-type {\n",
       "        vertical-align: middle;\n",
       "    }\n",
       "\n",
       "    .dataframe tbody tr th {\n",
       "        vertical-align: top;\n",
       "    }\n",
       "\n",
       "    .dataframe thead th {\n",
       "        text-align: right;\n",
       "    }\n",
       "</style>\n",
       "<table border=\"1\" class=\"dataframe\">\n",
       "  <thead>\n",
       "    <tr style=\"text-align: right;\">\n",
       "      <th></th>\n",
       "      <th>asin</th>\n",
       "      <th>image</th>\n",
       "      <th>overall</th>\n",
       "      <th>reviewText</th>\n",
       "      <th>reviewTime</th>\n",
       "      <th>reviewerID</th>\n",
       "      <th>reviewerName</th>\n",
       "      <th>style</th>\n",
       "      <th>summary</th>\n",
       "      <th>unixReviewTime</th>\n",
       "      <th>verified</th>\n",
       "      <th>vote</th>\n",
       "    </tr>\n",
       "  </thead>\n",
       "  <tbody>\n",
       "    <tr>\n",
       "      <th>0</th>\n",
       "      <td>0700026657</td>\n",
       "      <td>NaN</td>\n",
       "      <td>5.0</td>\n",
       "      <td>This game is a bit hard to get the hang of, bu...</td>\n",
       "      <td>10 17, 2015</td>\n",
       "      <td>A1HP7NVNPFMA4N</td>\n",
       "      <td>Ambrosia075</td>\n",
       "      <td>NaN</td>\n",
       "      <td>but when you do it's great.</td>\n",
       "      <td>1445040000</td>\n",
       "      <td>True</td>\n",
       "      <td>NaN</td>\n",
       "    </tr>\n",
       "    <tr>\n",
       "      <th>1</th>\n",
       "      <td>0700026657</td>\n",
       "      <td>NaN</td>\n",
       "      <td>4.0</td>\n",
       "      <td>I played it a while but it was alright. The st...</td>\n",
       "      <td>07 27, 2015</td>\n",
       "      <td>A1JGAP0185YJI6</td>\n",
       "      <td>travis</td>\n",
       "      <td>NaN</td>\n",
       "      <td>But in spite of that it was fun, I liked it</td>\n",
       "      <td>1437955200</td>\n",
       "      <td>False</td>\n",
       "      <td>NaN</td>\n",
       "    </tr>\n",
       "    <tr>\n",
       "      <th>2</th>\n",
       "      <td>0700026657</td>\n",
       "      <td>NaN</td>\n",
       "      <td>3.0</td>\n",
       "      <td>ok game.</td>\n",
       "      <td>02 23, 2015</td>\n",
       "      <td>A1YJWEXHQBWK2B</td>\n",
       "      <td>Vincent G. Mezera</td>\n",
       "      <td>NaN</td>\n",
       "      <td>Three Stars</td>\n",
       "      <td>1424649600</td>\n",
       "      <td>True</td>\n",
       "      <td>NaN</td>\n",
       "    </tr>\n",
       "    <tr>\n",
       "      <th>3</th>\n",
       "      <td>0700026657</td>\n",
       "      <td>NaN</td>\n",
       "      <td>2.0</td>\n",
       "      <td>found the game a bit too complicated, not what...</td>\n",
       "      <td>02 20, 2015</td>\n",
       "      <td>A2204E1TH211HT</td>\n",
       "      <td>Grandma KR</td>\n",
       "      <td>NaN</td>\n",
       "      <td>Two Stars</td>\n",
       "      <td>1424390400</td>\n",
       "      <td>True</td>\n",
       "      <td>NaN</td>\n",
       "    </tr>\n",
       "    <tr>\n",
       "      <th>4</th>\n",
       "      <td>0700026657</td>\n",
       "      <td>NaN</td>\n",
       "      <td>5.0</td>\n",
       "      <td>great game, I love it and have played it since...</td>\n",
       "      <td>12 25, 2014</td>\n",
       "      <td>A2RF5B5H74JLPE</td>\n",
       "      <td>jon</td>\n",
       "      <td>NaN</td>\n",
       "      <td>love this game</td>\n",
       "      <td>1419465600</td>\n",
       "      <td>True</td>\n",
       "      <td>NaN</td>\n",
       "    </tr>\n",
       "  </tbody>\n",
       "</table>\n",
       "</div>"
      ],
      "text/plain": [
       "         asin image  overall  \\\n",
       "0  0700026657   NaN      5.0   \n",
       "1  0700026657   NaN      4.0   \n",
       "2  0700026657   NaN      3.0   \n",
       "3  0700026657   NaN      2.0   \n",
       "4  0700026657   NaN      5.0   \n",
       "\n",
       "                                          reviewText   reviewTime  \\\n",
       "0  This game is a bit hard to get the hang of, bu...  10 17, 2015   \n",
       "1  I played it a while but it was alright. The st...  07 27, 2015   \n",
       "2                                           ok game.  02 23, 2015   \n",
       "3  found the game a bit too complicated, not what...  02 20, 2015   \n",
       "4  great game, I love it and have played it since...  12 25, 2014   \n",
       "\n",
       "       reviewerID       reviewerName style  \\\n",
       "0  A1HP7NVNPFMA4N        Ambrosia075   NaN   \n",
       "1  A1JGAP0185YJI6             travis   NaN   \n",
       "2  A1YJWEXHQBWK2B  Vincent G. Mezera   NaN   \n",
       "3  A2204E1TH211HT         Grandma KR   NaN   \n",
       "4  A2RF5B5H74JLPE                jon   NaN   \n",
       "\n",
       "                                       summary  unixReviewTime  verified vote  \n",
       "0                  but when you do it's great.      1445040000      True  NaN  \n",
       "1  But in spite of that it was fun, I liked it      1437955200     False  NaN  \n",
       "2                                  Three Stars      1424649600      True  NaN  \n",
       "3                                    Two Stars      1424390400      True  NaN  \n",
       "4                               love this game      1419465600      True  NaN  "
      ]
     },
     "execution_count": 7,
     "metadata": {},
     "output_type": "execute_result"
    }
   ],
   "source": [
    "### parse into a table\n",
    "vg_reviews = pd.DataFrame(data)\n",
    "vg_reviews.head()"
   ]
  },
  {
   "cell_type": "code",
   "execution_count": 8,
   "metadata": {},
   "outputs": [
    {
     "data": {
      "text/plain": [
       "{'overall': 5.0,\n",
       " 'verified': True,\n",
       " 'reviewTime': '10 17, 2015',\n",
       " 'reviewerID': 'A1HP7NVNPFMA4N',\n",
       " 'asin': '0700026657',\n",
       " 'reviewerName': 'Ambrosia075',\n",
       " 'reviewText': \"This game is a bit hard to get the hang of, but when you do it's great.\",\n",
       " 'summary': \"but when you do it's great.\",\n",
       " 'unixReviewTime': 1445040000}"
      ]
     },
     "execution_count": 8,
     "metadata": {},
     "output_type": "execute_result"
    }
   ],
   "source": [
    "### Those lines don't look right\n",
    "data[0]"
   ]
  },
  {
   "cell_type": "code",
   "execution_count": 9,
   "metadata": {},
   "outputs": [
    {
     "data": {
      "text/plain": [
       "{'overall': 4.0,\n",
       " 'verified': False,\n",
       " 'reviewTime': '07 27, 2015',\n",
       " 'reviewerID': 'A1JGAP0185YJI6',\n",
       " 'asin': '0700026657',\n",
       " 'reviewerName': 'travis',\n",
       " 'reviewText': 'I played it a while but it was alright. The steam was a bit of trouble. The more they move these game to steam the more of a hard time I have activating and playing a game. But in spite of that it was fun, I liked it. Now I am looking forward to anno 2205 I really want to play my way to the moon.',\n",
       " 'summary': 'But in spite of that it was fun, I liked it',\n",
       " 'unixReviewTime': 1437955200}"
      ]
     },
     "execution_count": 9,
     "metadata": {},
     "output_type": "execute_result"
    }
   ],
   "source": [
    "data[1]"
   ]
  },
  {
   "cell_type": "code",
   "execution_count": 10,
   "metadata": {},
   "outputs": [],
   "source": [
    "#### Okay, something in the data creation process parses the line after the comma into the summary ... not something I did"
   ]
  },
  {
   "cell_type": "code",
   "execution_count": 11,
   "metadata": {},
   "outputs": [
    {
     "data": {
      "text/html": [
       "<div>\n",
       "<style scoped>\n",
       "    .dataframe tbody tr th:only-of-type {\n",
       "        vertical-align: middle;\n",
       "    }\n",
       "\n",
       "    .dataframe tbody tr th {\n",
       "        vertical-align: top;\n",
       "    }\n",
       "\n",
       "    .dataframe thead th {\n",
       "        text-align: right;\n",
       "    }\n",
       "</style>\n",
       "<table border=\"1\" class=\"dataframe\">\n",
       "  <thead>\n",
       "    <tr style=\"text-align: right;\">\n",
       "      <th></th>\n",
       "      <th>asin</th>\n",
       "      <th>image</th>\n",
       "      <th>reviewText</th>\n",
       "      <th>reviewTime</th>\n",
       "      <th>reviewerID</th>\n",
       "      <th>reviewerName</th>\n",
       "      <th>style</th>\n",
       "      <th>summary</th>\n",
       "      <th>unixReviewTime</th>\n",
       "      <th>verified</th>\n",
       "      <th>vote</th>\n",
       "    </tr>\n",
       "    <tr>\n",
       "      <th>overall</th>\n",
       "      <th></th>\n",
       "      <th></th>\n",
       "      <th></th>\n",
       "      <th></th>\n",
       "      <th></th>\n",
       "      <th></th>\n",
       "      <th></th>\n",
       "      <th></th>\n",
       "      <th></th>\n",
       "      <th></th>\n",
       "      <th></th>\n",
       "    </tr>\n",
       "  </thead>\n",
       "  <tbody>\n",
       "    <tr>\n",
       "      <th>1.0</th>\n",
       "      <td>30883</td>\n",
       "      <td>277</td>\n",
       "      <td>30879</td>\n",
       "      <td>30883</td>\n",
       "      <td>30883</td>\n",
       "      <td>30877</td>\n",
       "      <td>18613</td>\n",
       "      <td>30876</td>\n",
       "      <td>30883</td>\n",
       "      <td>30883</td>\n",
       "      <td>14241</td>\n",
       "    </tr>\n",
       "    <tr>\n",
       "      <th>2.0</th>\n",
       "      <td>24135</td>\n",
       "      <td>121</td>\n",
       "      <td>24133</td>\n",
       "      <td>24135</td>\n",
       "      <td>24135</td>\n",
       "      <td>24132</td>\n",
       "      <td>14295</td>\n",
       "      <td>24130</td>\n",
       "      <td>24135</td>\n",
       "      <td>24135</td>\n",
       "      <td>8902</td>\n",
       "    </tr>\n",
       "    <tr>\n",
       "      <th>3.0</th>\n",
       "      <td>49146</td>\n",
       "      <td>259</td>\n",
       "      <td>49140</td>\n",
       "      <td>49146</td>\n",
       "      <td>49146</td>\n",
       "      <td>49132</td>\n",
       "      <td>28954</td>\n",
       "      <td>49144</td>\n",
       "      <td>49146</td>\n",
       "      <td>49146</td>\n",
       "      <td>14354</td>\n",
       "    </tr>\n",
       "    <tr>\n",
       "      <th>4.0</th>\n",
       "      <td>93654</td>\n",
       "      <td>648</td>\n",
       "      <td>93644</td>\n",
       "      <td>93654</td>\n",
       "      <td>93654</td>\n",
       "      <td>93640</td>\n",
       "      <td>53656</td>\n",
       "      <td>93645</td>\n",
       "      <td>93654</td>\n",
       "      <td>93654</td>\n",
       "      <td>22790</td>\n",
       "    </tr>\n",
       "    <tr>\n",
       "      <th>5.0</th>\n",
       "      <td>299759</td>\n",
       "      <td>2329</td>\n",
       "      <td>299623</td>\n",
       "      <td>299759</td>\n",
       "      <td>299759</td>\n",
       "      <td>299720</td>\n",
       "      <td>173719</td>\n",
       "      <td>299673</td>\n",
       "      <td>299759</td>\n",
       "      <td>299759</td>\n",
       "      <td>47506</td>\n",
       "    </tr>\n",
       "  </tbody>\n",
       "</table>\n",
       "</div>"
      ],
      "text/plain": [
       "           asin  image  reviewText  reviewTime  reviewerID  reviewerName  \\\n",
       "overall                                                                    \n",
       "1.0       30883    277       30879       30883       30883         30877   \n",
       "2.0       24135    121       24133       24135       24135         24132   \n",
       "3.0       49146    259       49140       49146       49146         49132   \n",
       "4.0       93654    648       93644       93654       93654         93640   \n",
       "5.0      299759   2329      299623      299759      299759        299720   \n",
       "\n",
       "          style  summary  unixReviewTime  verified   vote  \n",
       "overall                                                    \n",
       "1.0       18613    30876           30883     30883  14241  \n",
       "2.0       14295    24130           24135     24135   8902  \n",
       "3.0       28954    49144           49146     49146  14354  \n",
       "4.0       53656    93645           93654     93654  22790  \n",
       "5.0      173719   299673          299759    299759  47506  "
      ]
     },
     "execution_count": 11,
     "metadata": {},
     "output_type": "execute_result"
    }
   ],
   "source": [
    "### Did pandas parse the fields correctly?\n",
    "vg_reviews.groupby(['overall']).count()"
   ]
  },
  {
   "cell_type": "code",
   "execution_count": 12,
   "metadata": {},
   "outputs": [
    {
     "data": {
      "text/html": [
       "<div>\n",
       "<style scoped>\n",
       "    .dataframe tbody tr th:only-of-type {\n",
       "        vertical-align: middle;\n",
       "    }\n",
       "\n",
       "    .dataframe tbody tr th {\n",
       "        vertical-align: top;\n",
       "    }\n",
       "\n",
       "    .dataframe thead th {\n",
       "        text-align: right;\n",
       "    }\n",
       "</style>\n",
       "<table border=\"1\" class=\"dataframe\">\n",
       "  <thead>\n",
       "    <tr style=\"text-align: right;\">\n",
       "      <th></th>\n",
       "      <th>asin</th>\n",
       "      <th>image</th>\n",
       "      <th>overall</th>\n",
       "      <th>reviewText</th>\n",
       "      <th>reviewTime</th>\n",
       "      <th>reviewerID</th>\n",
       "      <th>reviewerName</th>\n",
       "      <th>style</th>\n",
       "      <th>summary</th>\n",
       "      <th>unixReviewTime</th>\n",
       "      <th>vote</th>\n",
       "    </tr>\n",
       "    <tr>\n",
       "      <th>verified</th>\n",
       "      <th></th>\n",
       "      <th></th>\n",
       "      <th></th>\n",
       "      <th></th>\n",
       "      <th></th>\n",
       "      <th></th>\n",
       "      <th></th>\n",
       "      <th></th>\n",
       "      <th></th>\n",
       "      <th></th>\n",
       "      <th></th>\n",
       "    </tr>\n",
       "  </thead>\n",
       "  <tbody>\n",
       "    <tr>\n",
       "      <th>False</th>\n",
       "      <td>164932</td>\n",
       "      <td>1249</td>\n",
       "      <td>164932</td>\n",
       "      <td>164915</td>\n",
       "      <td>164932</td>\n",
       "      <td>164932</td>\n",
       "      <td>164916</td>\n",
       "      <td>98206</td>\n",
       "      <td>164911</td>\n",
       "      <td>164932</td>\n",
       "      <td>70174</td>\n",
       "    </tr>\n",
       "    <tr>\n",
       "      <th>True</th>\n",
       "      <td>332645</td>\n",
       "      <td>2385</td>\n",
       "      <td>332645</td>\n",
       "      <td>332504</td>\n",
       "      <td>332645</td>\n",
       "      <td>332645</td>\n",
       "      <td>332585</td>\n",
       "      <td>191031</td>\n",
       "      <td>332557</td>\n",
       "      <td>332645</td>\n",
       "      <td>37619</td>\n",
       "    </tr>\n",
       "  </tbody>\n",
       "</table>\n",
       "</div>"
      ],
      "text/plain": [
       "            asin  image  overall  reviewText  reviewTime  reviewerID  \\\n",
       "verified                                                               \n",
       "False     164932   1249   164932      164915      164932      164932   \n",
       "True      332645   2385   332645      332504      332645      332645   \n",
       "\n",
       "          reviewerName   style  summary  unixReviewTime   vote  \n",
       "verified                                                        \n",
       "False           164916   98206   164911          164932  70174  \n",
       "True            332585  191031   332557          332645  37619  "
      ]
     },
     "execution_count": 12,
     "metadata": {},
     "output_type": "execute_result"
    }
   ],
   "source": [
    "vg_reviews.groupby(['verified']).count()"
   ]
  },
  {
   "cell_type": "code",
   "execution_count": 29,
   "metadata": {},
   "outputs": [],
   "source": [
    "bars = al.Chart(vg_reviews).mark_bar().encode(\n",
    "    x=al.X('overall', bin=al.Bin(maxbins=5)),\n",
    "     y= 'count(*):Q'\n",
    ")"
   ]
  },
  {
   "cell_type": "code",
   "execution_count": 34,
   "metadata": {},
   "outputs": [
    {
     "data": {
      "text/html": [
       "<div>\n",
       "<style scoped>\n",
       "    .dataframe tbody tr th:only-of-type {\n",
       "        vertical-align: middle;\n",
       "    }\n",
       "\n",
       "    .dataframe tbody tr th {\n",
       "        vertical-align: top;\n",
       "    }\n",
       "\n",
       "    .dataframe thead th {\n",
       "        text-align: right;\n",
       "    }\n",
       "</style>\n",
       "<table border=\"1\" class=\"dataframe\">\n",
       "  <thead>\n",
       "    <tr style=\"text-align: right;\">\n",
       "      <th></th>\n",
       "      <th>overall</th>\n",
       "      <th>asin</th>\n",
       "    </tr>\n",
       "  </thead>\n",
       "  <tbody>\n",
       "    <tr>\n",
       "      <th>0</th>\n",
       "      <td>1.0</td>\n",
       "      <td>30883</td>\n",
       "    </tr>\n",
       "    <tr>\n",
       "      <th>1</th>\n",
       "      <td>2.0</td>\n",
       "      <td>24135</td>\n",
       "    </tr>\n",
       "    <tr>\n",
       "      <th>2</th>\n",
       "      <td>3.0</td>\n",
       "      <td>49146</td>\n",
       "    </tr>\n",
       "    <tr>\n",
       "      <th>3</th>\n",
       "      <td>4.0</td>\n",
       "      <td>93654</td>\n",
       "    </tr>\n",
       "    <tr>\n",
       "      <th>4</th>\n",
       "      <td>5.0</td>\n",
       "      <td>299759</td>\n",
       "    </tr>\n",
       "  </tbody>\n",
       "</table>\n",
       "</div>"
      ],
      "text/plain": [
       "   overall    asin\n",
       "0      1.0   30883\n",
       "1      2.0   24135\n",
       "2      3.0   49146\n",
       "3      4.0   93654\n",
       "4      5.0  299759"
      ]
     },
     "execution_count": 34,
     "metadata": {},
     "output_type": "execute_result"
    }
   ],
   "source": [
    "### Summarize for visualization because Altair can't handle more than 5k rows\n",
    "vg_sum = vg_reviews.groupby('overall').agg({'asin':'count'}).reset_index()\n",
    "vg_sum.head(5)"
   ]
  },
  {
   "cell_type": "code",
   "execution_count": 35,
   "metadata": {},
   "outputs": [],
   "source": [
    "bars = al.Chart(vg_sum).mark_bar().encode(\n",
    "    x = 'overall:Q',\n",
    "    y = 'asin:Q')"
   ]
  },
  {
   "cell_type": "code",
   "execution_count": 36,
   "metadata": {},
   "outputs": [
    {
     "data": {
      "text/html": [
       "\n",
       "<div id=\"altair-viz-8bb25a8cb36148cfbec5189548f06b5e\"></div>\n",
       "<script type=\"text/javascript\">\n",
       "  (function(spec, embedOpt){\n",
       "    let outputDiv = document.currentScript.previousElementSibling;\n",
       "    if (outputDiv.id !== \"altair-viz-8bb25a8cb36148cfbec5189548f06b5e\") {\n",
       "      outputDiv = document.getElementById(\"altair-viz-8bb25a8cb36148cfbec5189548f06b5e\");\n",
       "    }\n",
       "    const paths = {\n",
       "      \"vega\": \"https://cdn.jsdelivr.net/npm//vega@5?noext\",\n",
       "      \"vega-lib\": \"https://cdn.jsdelivr.net/npm//vega-lib?noext\",\n",
       "      \"vega-lite\": \"https://cdn.jsdelivr.net/npm//vega-lite@4.8.1?noext\",\n",
       "      \"vega-embed\": \"https://cdn.jsdelivr.net/npm//vega-embed@6?noext\",\n",
       "    };\n",
       "\n",
       "    function loadScript(lib) {\n",
       "      return new Promise(function(resolve, reject) {\n",
       "        var s = document.createElement('script');\n",
       "        s.src = paths[lib];\n",
       "        s.async = true;\n",
       "        s.onload = () => resolve(paths[lib]);\n",
       "        s.onerror = () => reject(`Error loading script: ${paths[lib]}`);\n",
       "        document.getElementsByTagName(\"head\")[0].appendChild(s);\n",
       "      });\n",
       "    }\n",
       "\n",
       "    function showError(err) {\n",
       "      outputDiv.innerHTML = `<div class=\"error\" style=\"color:red;\">${err}</div>`;\n",
       "      throw err;\n",
       "    }\n",
       "\n",
       "    function displayChart(vegaEmbed) {\n",
       "      vegaEmbed(outputDiv, spec, embedOpt)\n",
       "        .catch(err => showError(`Javascript Error: ${err.message}<br>This usually means there's a typo in your chart specification. See the javascript console for the full traceback.`));\n",
       "    }\n",
       "\n",
       "    if(typeof define === \"function\" && define.amd) {\n",
       "      requirejs.config({paths});\n",
       "      require([\"vega-embed\"], displayChart, err => showError(`Error loading script: ${err.message}`));\n",
       "    } else if (typeof vegaEmbed === \"function\") {\n",
       "      displayChart(vegaEmbed);\n",
       "    } else {\n",
       "      loadScript(\"vega\")\n",
       "        .then(() => loadScript(\"vega-lite\"))\n",
       "        .then(() => loadScript(\"vega-embed\"))\n",
       "        .catch(showError)\n",
       "        .then(() => displayChart(vegaEmbed));\n",
       "    }\n",
       "  })({\"config\": {\"view\": {\"continuousWidth\": 400, \"continuousHeight\": 300}}, \"data\": {\"name\": \"data-5d67e3d91b138f9f5ea3aec4c6e6bbe5\"}, \"mark\": \"bar\", \"encoding\": {\"x\": {\"type\": \"quantitative\", \"field\": \"overall\"}, \"y\": {\"type\": \"quantitative\", \"field\": \"asin\"}}, \"$schema\": \"https://vega.github.io/schema/vega-lite/v4.8.1.json\", \"datasets\": {\"data-5d67e3d91b138f9f5ea3aec4c6e6bbe5\": [{\"overall\": 1.0, \"asin\": 30883}, {\"overall\": 2.0, \"asin\": 24135}, {\"overall\": 3.0, \"asin\": 49146}, {\"overall\": 4.0, \"asin\": 93654}, {\"overall\": 5.0, \"asin\": 299759}]}}, {\"mode\": \"vega-lite\"});\n",
       "</script>"
      ],
      "text/plain": [
       "alt.Chart(...)"
      ]
     },
     "execution_count": 36,
     "metadata": {},
     "output_type": "execute_result"
    }
   ],
   "source": [
    "bars"
   ]
  },
  {
   "cell_type": "code",
   "execution_count": 122,
   "metadata": {},
   "outputs": [
    {
     "name": "stdout",
     "output_type": "stream",
     "text": [
      "{1: 1500, 2: 500, 3: 500, 4: 500, 5: 1500}\n"
     ]
    }
   ],
   "source": [
    "###1.1.4 Randomly sample 1500-500-500-500-1500 for {1:5} ratings\n",
    "y = vg_reviews['overall']\n",
    "colx = [c for c in vg_reviews.columns if c != 'overall']\n",
    "x = vg_reviews[colx]\n",
    "sampStrat = {1:1500,2:500,3:500,4:500,5:1500}\n",
    "print(sampStrat)"
   ]
  },
  {
   "cell_type": "code",
   "execution_count": 64,
   "metadata": {},
   "outputs": [],
   "source": [
    "rus = imus.RandomUnderSampler(random_state=42, sampling_strategy=sampStrat)"
   ]
  },
  {
   "cell_type": "code",
   "execution_count": 65,
   "metadata": {},
   "outputs": [],
   "source": [
    "X_res, Y_res = rus.fit_sample(x,y)"
   ]
  },
  {
   "cell_type": "code",
   "execution_count": 66,
   "metadata": {},
   "outputs": [
    {
     "data": {
      "text/plain": [
       "5.0    1500\n",
       "1.0    1500\n",
       "4.0     500\n",
       "3.0     500\n",
       "2.0     500\n",
       "Name: overall, dtype: int64"
      ]
     },
     "execution_count": 66,
     "metadata": {},
     "output_type": "execute_result"
    }
   ],
   "source": [
    "### Check\n",
    "Y_res.value_counts()"
   ]
  },
  {
   "cell_type": "markdown",
   "metadata": {},
   "source": [
    "### Get second set of randomly-selected"
   ]
  },
  {
   "cell_type": "code",
   "execution_count": 37,
   "metadata": {},
   "outputs": [],
   "source": [
    "import numpy as np"
   ]
  },
  {
   "cell_type": "code",
   "execution_count": 53,
   "metadata": {},
   "outputs": [
    {
     "data": {
      "text/html": [
       "<div>\n",
       "<style scoped>\n",
       "    .dataframe tbody tr th:only-of-type {\n",
       "        vertical-align: middle;\n",
       "    }\n",
       "\n",
       "    .dataframe tbody tr th {\n",
       "        vertical-align: top;\n",
       "    }\n",
       "\n",
       "    .dataframe thead th {\n",
       "        text-align: right;\n",
       "    }\n",
       "</style>\n",
       "<table border=\"1\" class=\"dataframe\">\n",
       "  <thead>\n",
       "    <tr style=\"text-align: right;\">\n",
       "      <th></th>\n",
       "      <th>asin</th>\n",
       "      <th>image</th>\n",
       "      <th>overall</th>\n",
       "      <th>reviewText</th>\n",
       "      <th>reviewTime</th>\n",
       "      <th>reviewerID</th>\n",
       "      <th>reviewerName</th>\n",
       "      <th>style</th>\n",
       "      <th>summary</th>\n",
       "      <th>unixReviewTime</th>\n",
       "      <th>verified</th>\n",
       "      <th>vote</th>\n",
       "      <th>in_flag</th>\n",
       "    </tr>\n",
       "  </thead>\n",
       "  <tbody>\n",
       "    <tr>\n",
       "      <th>0</th>\n",
       "      <td>0700026657</td>\n",
       "      <td>NaN</td>\n",
       "      <td>5.0</td>\n",
       "      <td>This game is a bit hard to get the hang of, bu...</td>\n",
       "      <td>10 17, 2015</td>\n",
       "      <td>A1HP7NVNPFMA4N</td>\n",
       "      <td>Ambrosia075</td>\n",
       "      <td>NaN</td>\n",
       "      <td>but when you do it's great.</td>\n",
       "      <td>1445040000</td>\n",
       "      <td>True</td>\n",
       "      <td>NaN</td>\n",
       "      <td>121958</td>\n",
       "    </tr>\n",
       "    <tr>\n",
       "      <th>1</th>\n",
       "      <td>0700026657</td>\n",
       "      <td>NaN</td>\n",
       "      <td>4.0</td>\n",
       "      <td>I played it a while but it was alright. The st...</td>\n",
       "      <td>07 27, 2015</td>\n",
       "      <td>A1JGAP0185YJI6</td>\n",
       "      <td>travis</td>\n",
       "      <td>NaN</td>\n",
       "      <td>But in spite of that it was fun, I liked it</td>\n",
       "      <td>1437955200</td>\n",
       "      <td>False</td>\n",
       "      <td>NaN</td>\n",
       "      <td>146867</td>\n",
       "    </tr>\n",
       "  </tbody>\n",
       "</table>\n",
       "</div>"
      ],
      "text/plain": [
       "         asin image  overall  \\\n",
       "0  0700026657   NaN      5.0   \n",
       "1  0700026657   NaN      4.0   \n",
       "\n",
       "                                          reviewText   reviewTime  \\\n",
       "0  This game is a bit hard to get the hang of, bu...  10 17, 2015   \n",
       "1  I played it a while but it was alright. The st...  07 27, 2015   \n",
       "\n",
       "       reviewerID reviewerName style  \\\n",
       "0  A1HP7NVNPFMA4N  Ambrosia075   NaN   \n",
       "1  A1JGAP0185YJI6       travis   NaN   \n",
       "\n",
       "                                       summary  unixReviewTime  verified vote  \\\n",
       "0                  but when you do it's great.      1445040000      True  NaN   \n",
       "1  But in spite of that it was fun, I liked it      1437955200     False  NaN   \n",
       "\n",
       "   in_flag  \n",
       "0   121958  \n",
       "1   146867  "
      ]
     },
     "execution_count": 53,
     "metadata": {},
     "output_type": "execute_result"
    }
   ],
   "source": [
    "# Array size\n",
    "size_array = vg_reviews['asin'].count()\n",
    "\n",
    "# Asked to use randint, ceate a series of uniformly-distributed numbers\n",
    "np.random.seed(42)\n",
    "vg_reviews['in_flag'] = np.random.randint(0, size_array, vg_reviews.shape[0])\n",
    "\n",
    "vg_reviews.head(2)"
   ]
  },
  {
   "cell_type": "code",
   "execution_count": 77,
   "metadata": {},
   "outputs": [
    {
     "name": "stdout",
     "output_type": "stream",
     "text": [
      "100051\n"
     ]
    }
   ],
   "source": [
    "### Validate\n",
    "print(vg_reviews[vg_reviews['in_flag']<=100000]['asin'].count())\n",
    "vg_100k = vg_reviews[vg_reviews['in_flag']<=100000]['asin']"
   ]
  },
  {
   "cell_type": "code",
   "execution_count": 78,
   "metadata": {},
   "outputs": [
    {
     "name": "stderr",
     "output_type": "stream",
     "text": [
      "B:\\Users\\ThaddeusRyan\\Anaconda3\\lib\\site-packages\\ipykernel_launcher.py:3: FutureWarning: The signature of `Series.to_csv` was aligned to that of `DataFrame.to_csv`, and argument 'header' will change its default value from False to True: please pass an explicit value to suppress this warning.\n",
      "  This is separate from the ipykernel package so we can avoid doing imports until\n"
     ]
    }
   ],
   "source": [
    "### Balanced for output Output\n",
    "balanced_out = vg_100k\n",
    "balanced_out.to_csv('balanced_100k.csv', index=False)"
   ]
  },
  {
   "cell_type": "code",
   "execution_count": 133,
   "metadata": {},
   "outputs": [],
   "source": [
    "## Combine imbalanced and output\n",
    "imbalanced_out = pd.concat([X_res,Y_res], axis=1)\n",
    "# imbalanced_O, columns=[colx])\n",
    "imbalanced_out.to_csv('imbalanced_4500.csv', index=False)"
   ]
  }
 ],
 "metadata": {
  "kernelspec": {
   "display_name": "Python 3",
   "language": "python",
   "name": "python3"
  },
  "language_info": {
   "codemirror_mode": {
    "name": "ipython",
    "version": 3
   },
   "file_extension": ".py",
   "mimetype": "text/x-python",
   "name": "python",
   "nbconvert_exporter": "python",
   "pygments_lexer": "ipython3",
   "version": "3.7.3"
  }
 },
 "nbformat": 4,
 "nbformat_minor": 2
}
